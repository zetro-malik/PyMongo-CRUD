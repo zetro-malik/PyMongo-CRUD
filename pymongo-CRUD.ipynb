{
 "cells": [
  {
   "cell_type": "code",
   "execution_count": 2,
   "metadata": {},
   "outputs": [],
   "source": [
    "import pymongo\n"
   ]
  },
  {
   "attachments": {},
   "cell_type": "markdown",
   "metadata": {},
   "source": [
    "### As find() returns a cursor, So need to interate it."
   ]
  },
  {
   "cell_type": "code",
   "execution_count": 3,
   "metadata": {},
   "outputs": [],
   "source": [
    "def print_collection(collection):\n",
    "    for i in collection:\n",
    "        print(i)"
   ]
  },
  {
   "attachments": {},
   "cell_type": "markdown",
   "metadata": {},
   "source": [
    "#### Connecting to localhost, creating or using the datase and collection"
   ]
  },
  {
   "cell_type": "code",
   "execution_count": 4,
   "metadata": {},
   "outputs": [
    {
     "name": "stdout",
     "output_type": "stream",
     "text": [
      "['CHWBlog', 'Demo', 'admin', 'config', 'cra', 'local']\n",
      "['person']\n"
     ]
    }
   ],
   "source": [
    "client = pymongo.MongoClient(\"mongodb://localhost:27017\")\n",
    "print(client.list_database_names()) # display all databases\n",
    "db = client[\"Demo\"]\n",
    "print(db.list_collection_names())   # display all collections\n",
    "person = db[\"person\"]"
   ]
  },
  {
   "attachments": {},
   "cell_type": "markdown",
   "metadata": {},
   "source": [
    "### Inserting one document"
   ]
  },
  {
   "cell_type": "code",
   "execution_count": 5,
   "metadata": {},
   "outputs": [
    {
     "data": {
      "text/plain": [
       "<pymongo.results.InsertOneResult at 0x2155f77fd90>"
      ]
     },
     "execution_count": 5,
     "metadata": {},
     "output_type": "execute_result"
    }
   ],
   "source": [
    "dict1 ={\n",
    "    \"name\":\"zeeshan\",\n",
    "    \"age\":22,\n",
    "    \"lang\":\"python\"\n",
    "}\n",
    "person.insert_one(dict1)"
   ]
  },
  {
   "cell_type": "code",
   "execution_count": 6,
   "metadata": {},
   "outputs": [
    {
     "name": "stdout",
     "output_type": "stream",
     "text": [
      "{'_id': ObjectId('6459eefe2d4f14388da5d37d'), 'name': 'zeeshan', 'age': 32, 'lang': 'python', 'location': 'pakistan', 'country': 'pakistan'}\n",
      "{'_id': ObjectId('6459ef4d2d4f14388da5d37e'), 'name': 'uzair', 'age': 19, 'lang': 'urdo', 'location': 'pakistan', 'country': 'pakistan'}\n",
      "{'_id': ObjectId('6459ef4d2d4f14388da5d37f'), 'name': 'ozaifa', 'age': 28, 'lang': 'urdo', 'location': 'pakistan', 'country': 'pakistan'}\n",
      "{'_id': ObjectId('6459ef4d2d4f14388da5d380'), 'name': 'khubaib', 'age': 21, 'lang': 'C#', 'location': 'pakistan', 'country': 'pakistan'}\n",
      "{'_id': ObjectId('6459faed12d9279d9cb51a13'), 'name': 'zeeshan', 'age': 22, 'lang': 'python'}\n"
     ]
    }
   ],
   "source": [
    "print_collection(person.find())"
   ]
  },
  {
   "attachments": {},
   "cell_type": "markdown",
   "metadata": {},
   "source": [
    "### Inserting multiple documents"
   ]
  },
  {
   "cell_type": "code",
   "execution_count": 7,
   "metadata": {},
   "outputs": [
    {
     "data": {
      "text/plain": [
       "<pymongo.results.InsertManyResult at 0x2155f876820>"
      ]
     },
     "execution_count": 7,
     "metadata": {},
     "output_type": "execute_result"
    }
   ],
   "source": [
    "dict1 =[\n",
    "{\n",
    "    \"name\":\"uzair\",\n",
    "    \"age\":19,\n",
    "    \"lang\":None\n",
    "},\n",
    "{\n",
    "    \"name\":\"ozaifa\",\n",
    "    \"age\":28,\n",
    "    \"lang\":None\n",
    "},\n",
    "{\n",
    "    \"name\":\"khubaib\",\n",
    "    \"age\":21,\n",
    "    \"lang\":\"C#\"\n",
    "}\n",
    "\n",
    "]\n",
    "person.insert_many(dict1)"
   ]
  },
  {
   "cell_type": "code",
   "execution_count": 8,
   "metadata": {},
   "outputs": [
    {
     "name": "stdout",
     "output_type": "stream",
     "text": [
      "{'_id': ObjectId('6459eefe2d4f14388da5d37d'), 'name': 'zeeshan', 'age': 32, 'lang': 'python', 'location': 'pakistan', 'country': 'pakistan'}\n",
      "{'_id': ObjectId('6459ef4d2d4f14388da5d37e'), 'name': 'uzair', 'age': 19, 'lang': 'urdo', 'location': 'pakistan', 'country': 'pakistan'}\n",
      "{'_id': ObjectId('6459ef4d2d4f14388da5d37f'), 'name': 'ozaifa', 'age': 28, 'lang': 'urdo', 'location': 'pakistan', 'country': 'pakistan'}\n",
      "{'_id': ObjectId('6459ef4d2d4f14388da5d380'), 'name': 'khubaib', 'age': 21, 'lang': 'C#', 'location': 'pakistan', 'country': 'pakistan'}\n",
      "{'_id': ObjectId('6459faed12d9279d9cb51a13'), 'name': 'zeeshan', 'age': 22, 'lang': 'python'}\n",
      "{'_id': ObjectId('6459faed12d9279d9cb51a14'), 'name': 'uzair', 'age': 19, 'lang': None}\n",
      "{'_id': ObjectId('6459faed12d9279d9cb51a15'), 'name': 'ozaifa', 'age': 28, 'lang': None}\n",
      "{'_id': ObjectId('6459faed12d9279d9cb51a16'), 'name': 'khubaib', 'age': 21, 'lang': 'C#'}\n"
     ]
    }
   ],
   "source": [
    "print_collection(person.find())"
   ]
  },
  {
   "attachments": {},
   "cell_type": "markdown",
   "metadata": {},
   "source": [
    "#### limit(2) means getting only top-2 documents"
   ]
  },
  {
   "cell_type": "code",
   "execution_count": 9,
   "metadata": {},
   "outputs": [
    {
     "name": "stdout",
     "output_type": "stream",
     "text": [
      "{'_id': ObjectId('6459eefe2d4f14388da5d37d'), 'name': 'zeeshan', 'age': 32, 'lang': 'python', 'location': 'pakistan', 'country': 'pakistan'}\n",
      "{'_id': ObjectId('6459ef4d2d4f14388da5d37e'), 'name': 'uzair', 'age': 19, 'lang': 'urdo', 'location': 'pakistan', 'country': 'pakistan'}\n"
     ]
    }
   ],
   "source": [
    "print_collection(person.find().limit(2))"
   ]
  },
  {
   "attachments": {},
   "cell_type": "markdown",
   "metadata": {},
   "source": [
    "#### find_one() means find in the top document"
   ]
  },
  {
   "cell_type": "code",
   "execution_count": 10,
   "metadata": {},
   "outputs": [
    {
     "data": {
      "text/plain": [
       "{'_id': ObjectId('6459eefe2d4f14388da5d37d'),\n",
       " 'name': 'zeeshan',\n",
       " 'age': 32,\n",
       " 'lang': 'python',\n",
       " 'location': 'pakistan',\n",
       " 'country': 'pakistan'}"
      ]
     },
     "execution_count": 10,
     "metadata": {},
     "output_type": "execute_result"
    }
   ],
   "source": [
    "person.find_one()\n"
   ]
  },
  {
   "attachments": {},
   "cell_type": "markdown",
   "metadata": {},
   "source": [
    "#### Filtering by name where name = \"khubaib\""
   ]
  },
  {
   "cell_type": "code",
   "execution_count": 11,
   "metadata": {},
   "outputs": [
    {
     "data": {
      "text/plain": [
       "{'_id': ObjectId('6459ef4d2d4f14388da5d380'),\n",
       " 'name': 'khubaib',\n",
       " 'age': 21,\n",
       " 'lang': 'C#',\n",
       " 'location': 'pakistan',\n",
       " 'country': 'pakistan'}"
      ]
     },
     "execution_count": 11,
     "metadata": {},
     "output_type": "execute_result"
    }
   ],
   "source": [
    "person.find_one({'name':\"khubaib\"})"
   ]
  },
  {
   "attachments": {},
   "cell_type": "markdown",
   "metadata": {},
   "source": [
    "##### Second Dict. is use to select the columns we want, 0 indicate not to show while 1 shows"
   ]
  },
  {
   "cell_type": "code",
   "execution_count": 12,
   "metadata": {},
   "outputs": [
    {
     "data": {
      "text/plain": [
       "{'name': 'khubaib'}"
      ]
     },
     "execution_count": 12,
     "metadata": {},
     "output_type": "execute_result"
    }
   ],
   "source": [
    "person.find_one({'name':\"khubaib\"},{'name':1,'_id':0})"
   ]
  },
  {
   "attachments": {},
   "cell_type": "markdown",
   "metadata": {},
   "source": [
    "##### Count the lenght of the document"
   ]
  },
  {
   "cell_type": "code",
   "execution_count": 13,
   "metadata": {},
   "outputs": [
    {
     "data": {
      "text/plain": [
       "8"
      ]
     },
     "execution_count": 13,
     "metadata": {},
     "output_type": "execute_result"
    }
   ],
   "source": [
    "person.count_documents({})"
   ]
  },
  {
   "attachments": {},
   "cell_type": "markdown",
   "metadata": {},
   "source": [
    "##### Sorting on behalf of age"
   ]
  },
  {
   "cell_type": "code",
   "execution_count": 14,
   "metadata": {},
   "outputs": [
    {
     "name": "stdout",
     "output_type": "stream",
     "text": [
      "{'_id': ObjectId('6459ef4d2d4f14388da5d37e'), 'name': 'uzair', 'age': 19, 'lang': 'urdo', 'location': 'pakistan', 'country': 'pakistan'}\n",
      "{'_id': ObjectId('6459faed12d9279d9cb51a14'), 'name': 'uzair', 'age': 19, 'lang': None}\n",
      "{'_id': ObjectId('6459ef4d2d4f14388da5d380'), 'name': 'khubaib', 'age': 21, 'lang': 'C#', 'location': 'pakistan', 'country': 'pakistan'}\n",
      "{'_id': ObjectId('6459faed12d9279d9cb51a16'), 'name': 'khubaib', 'age': 21, 'lang': 'C#'}\n",
      "{'_id': ObjectId('6459faed12d9279d9cb51a13'), 'name': 'zeeshan', 'age': 22, 'lang': 'python'}\n",
      "{'_id': ObjectId('6459ef4d2d4f14388da5d37f'), 'name': 'ozaifa', 'age': 28, 'lang': 'urdo', 'location': 'pakistan', 'country': 'pakistan'}\n",
      "{'_id': ObjectId('6459faed12d9279d9cb51a15'), 'name': 'ozaifa', 'age': 28, 'lang': None}\n",
      "{'_id': ObjectId('6459eefe2d4f14388da5d37d'), 'name': 'zeeshan', 'age': 32, 'lang': 'python', 'location': 'pakistan', 'country': 'pakistan'}\n"
     ]
    }
   ],
   "source": [
    "print_collection(person.find({}).sort('age'))"
   ]
  },
  {
   "attachments": {},
   "cell_type": "markdown",
   "metadata": {},
   "source": [
    "##### Less than/Greater than/ Less than or Eq/Greater than or Eq"
   ]
  },
  {
   "cell_type": "code",
   "execution_count": 15,
   "metadata": {},
   "outputs": [
    {
     "name": "stdout",
     "output_type": "stream",
     "text": [
      "{'_id': ObjectId('6459ef4d2d4f14388da5d380'), 'name': 'khubaib', 'age': 21, 'lang': 'C#', 'location': 'pakistan', 'country': 'pakistan'}\n",
      "{'_id': ObjectId('6459faed12d9279d9cb51a13'), 'name': 'zeeshan', 'age': 22, 'lang': 'python'}\n",
      "{'_id': ObjectId('6459faed12d9279d9cb51a16'), 'name': 'khubaib', 'age': 21, 'lang': 'C#'}\n"
     ]
    }
   ],
   "source": [
    "print_collection(person.find({'age':{\"$gt\":20,\"$lt\":27}}))"
   ]
  },
  {
   "attachments": {},
   "cell_type": "markdown",
   "metadata": {},
   "source": [
    "### Update takes 2 Dicts. first to filter, second to perform operations\n",
    "##### $set means changing the values or adding values\n",
    "##### $inc means incrementing the value\n",
    "##### $rename means renaming the key  \n"
   ]
  },
  {
   "cell_type": "code",
   "execution_count": 16,
   "metadata": {},
   "outputs": [
    {
     "data": {
      "text/plain": [
       "<pymongo.results.UpdateResult at 0x2155d2bceb0>"
      ]
     },
     "execution_count": 16,
     "metadata": {},
     "output_type": "execute_result"
    }
   ],
   "source": [
    "person.update_many({},{\"$set\":{'country':\"pakistan\"}})"
   ]
  },
  {
   "cell_type": "code",
   "execution_count": 17,
   "metadata": {},
   "outputs": [
    {
     "name": "stdout",
     "output_type": "stream",
     "text": [
      "{'_id': ObjectId('6459eefe2d4f14388da5d37d'), 'name': 'zeeshan', 'age': 32, 'lang': 'python', 'location': 'pakistan', 'country': 'pakistan'}\n",
      "{'_id': ObjectId('6459ef4d2d4f14388da5d37e'), 'name': 'uzair', 'age': 19, 'lang': 'urdo', 'location': 'pakistan', 'country': 'pakistan'}\n",
      "{'_id': ObjectId('6459ef4d2d4f14388da5d37f'), 'name': 'ozaifa', 'age': 28, 'lang': 'urdo', 'location': 'pakistan', 'country': 'pakistan'}\n",
      "{'_id': ObjectId('6459ef4d2d4f14388da5d380'), 'name': 'khubaib', 'age': 21, 'lang': 'C#', 'location': 'pakistan', 'country': 'pakistan'}\n",
      "{'_id': ObjectId('6459faed12d9279d9cb51a13'), 'name': 'zeeshan', 'age': 22, 'lang': 'python', 'country': 'pakistan'}\n",
      "{'_id': ObjectId('6459faed12d9279d9cb51a14'), 'name': 'uzair', 'age': 19, 'lang': None, 'country': 'pakistan'}\n",
      "{'_id': ObjectId('6459faed12d9279d9cb51a15'), 'name': 'ozaifa', 'age': 28, 'lang': None, 'country': 'pakistan'}\n",
      "{'_id': ObjectId('6459faed12d9279d9cb51a16'), 'name': 'khubaib', 'age': 21, 'lang': 'C#', 'country': 'pakistan'}\n"
     ]
    }
   ],
   "source": [
    "print_collection(person.find({}))"
   ]
  },
  {
   "cell_type": "code",
   "execution_count": 18,
   "metadata": {},
   "outputs": [
    {
     "data": {
      "text/plain": [
       "<pymongo.results.UpdateResult at 0x2155d213b20>"
      ]
     },
     "execution_count": 18,
     "metadata": {},
     "output_type": "execute_result"
    }
   ],
   "source": [
    "person.update_many({'lang':None},{\"$set\":{'lang':\"urdo\"}})"
   ]
  },
  {
   "cell_type": "code",
   "execution_count": 19,
   "metadata": {},
   "outputs": [
    {
     "name": "stdout",
     "output_type": "stream",
     "text": [
      "{'_id': ObjectId('6459eefe2d4f14388da5d37d'), 'name': 'zeeshan', 'age': 32, 'lang': 'python', 'location': 'pakistan', 'country': 'pakistan'}\n",
      "{'_id': ObjectId('6459ef4d2d4f14388da5d37e'), 'name': 'uzair', 'age': 19, 'lang': 'urdo', 'location': 'pakistan', 'country': 'pakistan'}\n",
      "{'_id': ObjectId('6459ef4d2d4f14388da5d37f'), 'name': 'ozaifa', 'age': 28, 'lang': 'urdo', 'location': 'pakistan', 'country': 'pakistan'}\n",
      "{'_id': ObjectId('6459ef4d2d4f14388da5d380'), 'name': 'khubaib', 'age': 21, 'lang': 'C#', 'location': 'pakistan', 'country': 'pakistan'}\n",
      "{'_id': ObjectId('6459faed12d9279d9cb51a13'), 'name': 'zeeshan', 'age': 22, 'lang': 'python', 'country': 'pakistan'}\n",
      "{'_id': ObjectId('6459faed12d9279d9cb51a14'), 'name': 'uzair', 'age': 19, 'lang': 'urdo', 'country': 'pakistan'}\n",
      "{'_id': ObjectId('6459faed12d9279d9cb51a15'), 'name': 'ozaifa', 'age': 28, 'lang': 'urdo', 'country': 'pakistan'}\n",
      "{'_id': ObjectId('6459faed12d9279d9cb51a16'), 'name': 'khubaib', 'age': 21, 'lang': 'C#', 'country': 'pakistan'}\n"
     ]
    }
   ],
   "source": [
    "print_collection(person.find({}))"
   ]
  },
  {
   "cell_type": "code",
   "execution_count": 20,
   "metadata": {},
   "outputs": [
    {
     "data": {
      "text/plain": [
       "<pymongo.results.UpdateResult at 0x2155d2bcee0>"
      ]
     },
     "execution_count": 20,
     "metadata": {},
     "output_type": "execute_result"
    }
   ],
   "source": [
    "person.update_one({'name':'zeeshan'},{\"$inc\":{'age':10}})"
   ]
  },
  {
   "cell_type": "code",
   "execution_count": 21,
   "metadata": {},
   "outputs": [
    {
     "name": "stdout",
     "output_type": "stream",
     "text": [
      "{'name': 'zeeshan', 'age': 42}\n",
      "{'name': 'uzair', 'age': 19}\n",
      "{'name': 'ozaifa', 'age': 28}\n",
      "{'name': 'khubaib', 'age': 21}\n",
      "{'name': 'zeeshan', 'age': 22}\n",
      "{'name': 'uzair', 'age': 19}\n",
      "{'name': 'ozaifa', 'age': 28}\n",
      "{'name': 'khubaib', 'age': 21}\n"
     ]
    }
   ],
   "source": [
    "print_collection(person.find({},{\"name\":1,\"age\":1,\"_id\":0}))"
   ]
  },
  {
   "attachments": {},
   "cell_type": "markdown",
   "metadata": {},
   "source": [
    "##### update_one only update 1st record in result of the filter"
   ]
  },
  {
   "cell_type": "code",
   "execution_count": 22,
   "metadata": {},
   "outputs": [
    {
     "data": {
      "text/plain": [
       "<pymongo.results.UpdateResult at 0x2155f876550>"
      ]
     },
     "execution_count": 22,
     "metadata": {},
     "output_type": "execute_result"
    }
   ],
   "source": [
    "person.update_one({},{\"$rename\":{'country':\"location\"}})"
   ]
  },
  {
   "cell_type": "code",
   "execution_count": 23,
   "metadata": {},
   "outputs": [
    {
     "name": "stdout",
     "output_type": "stream",
     "text": [
      "{'_id': ObjectId('6459eefe2d4f14388da5d37d'), 'name': 'zeeshan', 'age': 42, 'lang': 'python', 'location': 'pakistan'}\n",
      "{'_id': ObjectId('6459ef4d2d4f14388da5d37e'), 'name': 'uzair', 'age': 19, 'lang': 'urdo', 'location': 'pakistan', 'country': 'pakistan'}\n",
      "{'_id': ObjectId('6459ef4d2d4f14388da5d37f'), 'name': 'ozaifa', 'age': 28, 'lang': 'urdo', 'location': 'pakistan', 'country': 'pakistan'}\n",
      "{'_id': ObjectId('6459ef4d2d4f14388da5d380'), 'name': 'khubaib', 'age': 21, 'lang': 'C#', 'location': 'pakistan', 'country': 'pakistan'}\n",
      "{'_id': ObjectId('6459faed12d9279d9cb51a13'), 'name': 'zeeshan', 'age': 22, 'lang': 'python', 'country': 'pakistan'}\n",
      "{'_id': ObjectId('6459faed12d9279d9cb51a14'), 'name': 'uzair', 'age': 19, 'lang': 'urdo', 'country': 'pakistan'}\n",
      "{'_id': ObjectId('6459faed12d9279d9cb51a15'), 'name': 'ozaifa', 'age': 28, 'lang': 'urdo', 'country': 'pakistan'}\n",
      "{'_id': ObjectId('6459faed12d9279d9cb51a16'), 'name': 'khubaib', 'age': 21, 'lang': 'C#', 'country': 'pakistan'}\n"
     ]
    }
   ],
   "source": [
    "print_collection(person.find({}))"
   ]
  },
  {
   "attachments": {},
   "cell_type": "markdown",
   "metadata": {},
   "source": [
    "##### update_Many updates all record in result of the filter"
   ]
  },
  {
   "cell_type": "code",
   "execution_count": 24,
   "metadata": {},
   "outputs": [
    {
     "data": {
      "text/plain": [
       "<pymongo.results.UpdateResult at 0x2155d2bc580>"
      ]
     },
     "execution_count": 24,
     "metadata": {},
     "output_type": "execute_result"
    }
   ],
   "source": [
    "person.update_many({},{\"$rename\":{'country':\"location\"}})"
   ]
  },
  {
   "cell_type": "code",
   "execution_count": 25,
   "metadata": {},
   "outputs": [
    {
     "name": "stdout",
     "output_type": "stream",
     "text": [
      "{'_id': ObjectId('6459eefe2d4f14388da5d37d'), 'name': 'zeeshan', 'age': 42, 'lang': 'python', 'location': 'pakistan'}\n",
      "{'_id': ObjectId('6459ef4d2d4f14388da5d37e'), 'name': 'uzair', 'age': 19, 'lang': 'urdo', 'location': 'pakistan'}\n",
      "{'_id': ObjectId('6459ef4d2d4f14388da5d37f'), 'name': 'ozaifa', 'age': 28, 'lang': 'urdo', 'location': 'pakistan'}\n",
      "{'_id': ObjectId('6459ef4d2d4f14388da5d380'), 'name': 'khubaib', 'age': 21, 'lang': 'C#', 'location': 'pakistan'}\n",
      "{'_id': ObjectId('6459faed12d9279d9cb51a13'), 'name': 'zeeshan', 'age': 22, 'lang': 'python', 'location': 'pakistan'}\n",
      "{'_id': ObjectId('6459faed12d9279d9cb51a14'), 'name': 'uzair', 'age': 19, 'lang': 'urdo', 'location': 'pakistan'}\n",
      "{'_id': ObjectId('6459faed12d9279d9cb51a15'), 'name': 'ozaifa', 'age': 28, 'lang': 'urdo', 'location': 'pakistan'}\n",
      "{'_id': ObjectId('6459faed12d9279d9cb51a16'), 'name': 'khubaib', 'age': 21, 'lang': 'C#', 'location': 'pakistan'}\n"
     ]
    }
   ],
   "source": [
    "print_collection(person.find({}))"
   ]
  },
  {
   "attachments": {},
   "cell_type": "markdown",
   "metadata": {},
   "source": [
    "### Deleting documents"
   ]
  },
  {
   "cell_type": "code",
   "execution_count": 32,
   "metadata": {},
   "outputs": [
    {
     "data": {
      "text/plain": [
       "<pymongo.results.DeleteResult at 0x2155f876eb0>"
      ]
     },
     "execution_count": 32,
     "metadata": {},
     "output_type": "execute_result"
    }
   ],
   "source": [
    "person.delete_one({\"name\":\"zeeshan\"})"
   ]
  },
  {
   "cell_type": "code",
   "execution_count": 33,
   "metadata": {},
   "outputs": [
    {
     "name": "stdout",
     "output_type": "stream",
     "text": [
      "{'_id': ObjectId('6459faed12d9279d9cb51a14'), 'name': 'uzair', 'age': 19, 'lang': 'urdo', 'location': 'pakistan'}\n",
      "{'_id': ObjectId('6459faed12d9279d9cb51a15'), 'name': 'ozaifa', 'age': 28, 'lang': 'urdo', 'location': 'pakistan'}\n",
      "{'_id': ObjectId('6459faed12d9279d9cb51a16'), 'name': 'khubaib', 'age': 21, 'lang': 'C#', 'location': 'pakistan'}\n"
     ]
    }
   ],
   "source": [
    "print_collection(person.find({}))"
   ]
  },
  {
   "cell_type": "code",
   "execution_count": null,
   "metadata": {},
   "outputs": [],
   "source": []
  }
 ],
 "metadata": {
  "kernelspec": {
   "display_name": "Python 3",
   "language": "python",
   "name": "python3"
  },
  "language_info": {
   "codemirror_mode": {
    "name": "ipython",
    "version": 3
   },
   "file_extension": ".py",
   "mimetype": "text/x-python",
   "name": "python",
   "nbconvert_exporter": "python",
   "pygments_lexer": "ipython3",
   "version": "3.9.13"
  },
  "orig_nbformat": 4
 },
 "nbformat": 4,
 "nbformat_minor": 2
}
